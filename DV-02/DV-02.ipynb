{
 "cells": [
  {
   "cell_type": "markdown",
   "metadata": {
    "collapsed": true
   },
   "source": [
    "#2. Explore your data and find a story [ = Step 2,3 from the main project]"
   ]
  },
  {
   "cell_type": "markdown",
   "metadata": {},
   "source": [
    "<H2>Formulate questions about the data</H2>\n",
    "Is there an increase in crime over the years?  \n",
    "Is there more crime in the evening than there is during the day?  \n",
    "Are different weapons used throughout the years?  \n",
    "Which district has the most crime?"
   ]
  },
  {
   "cell_type": "markdown",
   "metadata": {},
   "source": [
    "<h3>Is there an increase in crimes over the years? </h3>\n",
    "\n",
    "![Crimes throughout the years](https://raw.githubusercontent.com/ubaer/ADS-DV/master/DV-02/Screenshots/CrimeThroughoutTheYears.png)  \n",
    "<i><u>Image 1: Amount of crimes committed throughout the years</u></i>  \n",
    "There is something really intersting happening in image 1. It becomes clear that there isn't an increase or decline in the amount of crimes throughout the years BUT it also shows that in the months January, February and March have really big drops in the crime rate."
   ]
  },
  {
   "cell_type": "markdown",
   "metadata": {},
   "source": [
    "<h3> Is there more crime in the evening than there is during the day </h3>\n",
    "![Crimes sorted by time](https://raw.githubusercontent.com/ubaer/ADS-DV/master/DV-02/Screenshots/CrimesSortedByTime.png)  \n",
    "<i><u>Image 2: Crimes sorted by time</u></i>  \n",
    "It may be unexpected but the crime rates are much higher during the day than during the night. At 10PM the amount of crimes see a small decline till 1AM at which they plummet down. It looks like most criminals get up between 6AM and 8AM because at these times we see the rates increase rapidly. Another thing that is striking is the little spike at midday which immediately drops back down at 1PM."
   ]
  },
  {
   "cell_type": "markdown",
   "metadata": {},
   "source": [
    "<h3>Are different weapons used throughout the years?  </h3>\n",
    "![Crimes sorted by time](https://raw.githubusercontent.com/ubaer/ADS-DV/master/DV-02/Screenshots/WeaponsUsedPerYear.png)  \n",
    "<i><u>Image 3: Weapons used sorted by year</u></i>  \n",
    "The categories 'knife' and 'other' seem to be steady throughout the years. But in 2015 we see an increase in the use of firearms and a decrease in the use of hands compaired to the previous years. This doesn't change back after 2015 but it also doesn't keep shifting."
   ]
  },
  {
   "cell_type": "markdown",
   "metadata": {},
   "source": [
    "<h3> Which district has the most crime? </h3>  \n",
    "![Crimes sorted by district](https://raw.githubusercontent.com/ubaer/ADS-DV/master/DV-02/Screenshots/CrimePerDistrict.png)  \n",
    "<i><u>Image 4: Crimes per district</u></i>  \n",
    "The northeastern district has the highest crime rate even though the southeastern district isn't far behind. Remarkable is that the eastern district has the second lowest crime rate of all them all.  The least crime is committed in the western district."
   ]
  }
 ],
 "metadata": {
  "kernelspec": {
   "display_name": "Python 2",
   "language": "python",
   "name": "python2"
  },
  "language_info": {
   "codemirror_mode": {
    "name": "ipython",
    "version": 2
   },
   "file_extension": ".py",
   "mimetype": "text/x-python",
   "name": "python",
   "nbconvert_exporter": "python",
   "pygments_lexer": "ipython2",
   "version": "2.7.6"
  }
 },
 "nbformat": 4,
 "nbformat_minor": 0
}
