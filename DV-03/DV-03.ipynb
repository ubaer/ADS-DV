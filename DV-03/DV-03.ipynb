{
 "cells": [
  {
   "cell_type": "markdown",
   "metadata": {
    "collapsed": true
   },
   "source": [
    "<h1>Redesign a bad/misleading chart</h1>  \n",
    "I have found the following graph on http://viz.wtf/:  \n",
    "![Bad graph](https://raw.githubusercontent.com/ubaer/ADS-DV/master/DV-03/images/resizedbadgraph.jpg)  \n",
    "<u><i>Image 1: Bad graph</u></i>  \n",
    "I think the usage of a line graph isn't bad for showing this data. A lot of weather programs use this format but they do it properly."
   ]
  },
  {
   "cell_type": "markdown",
   "metadata": {},
   "source": [
    "I used tableau to recreate this line chart and this is the result:  \n",
    "![Bad graph](https://raw.githubusercontent.com/ubaer/ADS-DV/master/DV-03/images/propertemperature.jpg)  \n",
    "This chart does not show the sun information but in this case it is irrelevant because it is sunny all day long.  \n",
    "I took the data from the image and placed this in an excel sheet. Using this sheet in tableau I could fairly easy make this chart. I added dots on the line so the temperature on that point in day is clear."
   ]
  },
  {
   "cell_type": "markdown",
   "metadata": {},
   "source": [
    "<h1>(Re)design your own charts</h1>"
   ]
  }
 ],
 "metadata": {
  "kernelspec": {
   "display_name": "Python 2",
   "language": "python",
   "name": "python2"
  },
  "language_info": {
   "codemirror_mode": {
    "name": "ipython",
    "version": 2
   },
   "file_extension": ".py",
   "mimetype": "text/x-python",
   "name": "python",
   "nbconvert_exporter": "python",
   "pygments_lexer": "ipython2",
   "version": "2.7.6"
  }
 },
 "nbformat": 4,
 "nbformat_minor": 0
}
