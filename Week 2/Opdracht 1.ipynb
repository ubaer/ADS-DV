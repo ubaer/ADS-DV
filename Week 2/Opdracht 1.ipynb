{
 "cells": [
  {
   "cell_type": "markdown",
   "metadata": {
    "collapsed": true
   },
   "source": [
    "# 2. Examine each attribute in the group dataset. What is its datatype?\n",
    "\n",
    "Timestamp<b> Continuous</b><br>\n",
    "What is your main study profile?<b> Nominal</b><br>\n",
    "What aspect of Data Visualization is most interesting to you?<b> Nominal</b><br>\n",
    "How much effort do you intend to invest into this subject?<b> Discrete</b><br>\n",
    "Your age (in years)<b> Continious</b><br>\n",
    "Your height (in cm)<b> Continious</b><br>\n",
    "Your starsign<b> Nominal</b><br>\n",
    "Your continent<b> Nominal</b> <br>\n",
    "How many cousins do you have?<b> Discrete</b><br>\n",
    "Do you like spicy food?<b> Ordinal</b><br>\n"
   ]
  },
  {
   "cell_type": "markdown",
   "metadata": {},
   "source": [
    "# 3.\tReproducible Research "
   ]
  },
  {
   "cell_type": "code",
   "execution_count": null,
   "metadata": {},
   "outputs": [],
   "source": []
  }
 ],
 "metadata": {
  "kernelspec": {
   "display_name": "Python 2",
   "language": "python",
   "name": "python2"
  },
  "language_info": {
   "codemirror_mode": {
    "name": "ipython",
    "version": 2
   },
   "file_extension": ".py",
   "mimetype": "text/x-python",
   "name": "python",
   "nbconvert_exporter": "python",
   "pygments_lexer": "ipython2",
   "version": "2.7.6"
  }
 },
 "nbformat": 4,
 "nbformat_minor": 0
}
